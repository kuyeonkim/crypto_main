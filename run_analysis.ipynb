{
 "cells": [
  {
   "cell_type": "code",
   "metadata": {},
   "source": [
    "import pandas as pd\n",
    "from pathlib import Path\n",
    "\n",
    "import preprocess\n",
    "import cluster_eval\n",
    "import visualize\n"
   ]
  },
  {
   "cell_type": "code",
   "metadata": {},
   "source": [
    "# Load and preprocess dataset\n",
    "raw_df = preprocess.load_volcorr()\n",
    "processed_df = preprocess.preprocess_volcorr(raw_df)\n",
    "X = processed_df.values\n"
   ]
  },
  {
   "cell_type": "code",
   "metadata": {},
   "source": [
    "# Evaluate clustering configurations\n",
    "results = cluster_eval.evaluate_grids(X, 'kmeans')\n",
    "results\n"
   ]
  },
  {
   "cell_type": "code",
   "metadata": {},
   "source": [
    "# Run clustering with best configuration and visualize\n",
    "best = cluster_eval.best_config(results)\n",
    "labels = cluster_eval.run_clustering(X, best['algorithm'], {k: v for k, v in best.items() if k != 'algorithm'})\n",
    "visualize.visualize_by_config(processed_df, labels, best['algorithm'], 'volcorrultimate')\n",
    "visualize.heatmap_for_clusters(processed_df, labels, best['algorithm'], 'volcorrultimate')\n"
   ]
  }
 ],
 "metadata": {
  "kernelspec": {
   "display_name": "Python 3",
   "language": "python",
   "name": "python3"
  },
  "language_info": {
   "name": "python",
   "version": "3.11"
  }
 },
 "nbformat": 4,
 "nbformat_minor": 5
}
