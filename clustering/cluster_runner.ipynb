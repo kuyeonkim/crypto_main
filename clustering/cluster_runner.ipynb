{
 "cells": [
  {
   "cell_type": "markdown",
   "id": "b54e9b11",
   "metadata": {},
   "source": [
    "# Clustering Execution Runner\n",
    "Run one dataset through preprocessing, clustering evaluation, and basic visuals."
   ]
  },
  {
   "cell_type": "code",
   "execution_count": 1,
   "id": "ad1eee9e",
   "metadata": {},
   "outputs": [],
   "source": [
    "import pandas as pd\n",
    "import numpy as np\n",
    "from preprocess import load_volcorr, preprocess_volcorr, load_total_df, preprocess_total_df, load_globalminds, preprocess_globalminds\n",
    "from cluster_eval import evaluate_all\n",
    "from visualize import visualize_by_config, cluster_heatmap"
   ]
  },
  {
   "cell_type": "markdown",
   "id": "88f249c1",
   "metadata": {},
   "source": [
    "## Pick dataset key\n",
    "Options: `'volcorr'`, `'total_df'`, `'globalminds'`"
   ]
  },
  {
   "cell_type": "code",
   "execution_count": 2,
   "id": "f2e593f4",
   "metadata": {},
   "outputs": [],
   "source": [
    "dataset_key = 'total_df'"
   ]
  },
  {
   "cell_type": "markdown",
   "id": "3ea074e4",
   "metadata": {},
   "source": [
    "## Load and preprocess"
   ]
  },
  {
   "cell_type": "code",
   "execution_count": 3,
   "id": "23905424",
   "metadata": {},
   "outputs": [
    {
     "name": "stdout",
     "output_type": "stream",
     "text": [
      "(124, 14)\n"
     ]
    }
   ],
   "source": [
    "DATASETS = {\n",
    "    'volcorr': (load_volcorr, preprocess_volcorr, 'volcorr', 'exchange'),\n",
    "    'total_df': (load_total_df, preprocess_total_df, 'total_df', 'exchange'),\n",
    "    'globalminds': (load_globalminds, preprocess_globalminds, 'globalminds', 'country')\n",
    "}\n",
    "load_fn, pre_fn, data_name, id_col = DATASETS[dataset_key]\n",
    "df = load_fn()\n",
    "X_df = pre_fn(df)\n",
    "ids = df[id_col] if id_col in df.columns else X_df.index\n",
    "X = X_df.to_numpy()\n",
    "print(X.shape)\n"
   ]
  },
  {
   "cell_type": "code",
   "execution_count": null,
   "id": "919f5da9",
   "metadata": {},
   "outputs": [],
   "source": [
    "X"
   ]
  },
  {
   "cell_type": "markdown",
   "id": "3859d4d9",
   "metadata": {},
   "source": [
    "## Cluster evaluation"
   ]
  },
  {
   "cell_type": "code",
   "execution_count": null,
   "id": "6438b8ec",
   "metadata": {},
   "outputs": [],
   "source": [
    "summary, stats_df, all_members = evaluate_all(X, ids.to_numpy())\n",
    "summary"
   ]
  },
  {
   "cell_type": "markdown",
   "id": "0edc9ee0",
   "metadata": {},
   "source": [
    "## Inspect top configurations"
   ]
  },
  {
   "cell_type": "code",
   "execution_count": null,
   "id": "74aa1e79",
   "metadata": {},
   "outputs": [],
   "source": [
    "stats_df.head()"
   ]
  },
  {
   "cell_type": "markdown",
   "id": "b6e66d1d",
   "metadata": {},
   "source": [
    "## Stats_df screening"
   ]
  },
  {
   "cell_type": "code",
   "execution_count": null,
   "id": "0b03ddc7",
   "metadata": {},
   "outputs": [],
   "source": [
    "screened_stats_df = stats_df.copy()\n",
    "\n",
    "if dataset_key == 'total_df':\n",
    "    screened_stats_df = screened_stats_df[screened_stats_df['method'].isin(['pca_kmeans', 'tsne_dbscan', 'umap_hdbscan'])]\n",
    "    screened_stats_df = screened_stats_df[screened_stats_df['k'] > 4]\n",
    "    screened_stats_df = screened_stats_df[screened_stats_df['sil'] > 0.3]\n",
    "elif dataset_key == 'globalminds':\n",
    "    screened_stats_df = screened_stats_df[screened_stats_df['method'].isin(['pca_kmeans', 'tsne_dbscan', 'umap_hdbscan'])]\n",
    "    screened_stats_df = screened_stats_df[screened_stats_df['k'] > 4]\n",
    "    screened_stats_df = screened_stats_df[screened_stats_df['sil'] > 0.4]\n",
    "elif dataset_key == 'volcorr': \n",
    "    screened_stats_df = screened_stats_df[screened_stats_df['method'].isin(['pca_kmeans', 'tsne_dbscan', 'umap_hdbscan'])]"
   ]
  },
  {
   "cell_type": "markdown",
   "id": "d4e1f515",
   "metadata": {},
   "source": [
    "## Generate visuals"
   ]
  },
  {
   "cell_type": "code",
   "execution_count": null,
   "id": "2fe5614e",
   "metadata": {},
   "outputs": [],
   "source": [
    "visualize_by_config(df, screened_stats_df, pre_fn, data_name, id_col=id_col)"
   ]
  },
  {
   "cell_type": "code",
   "execution_count": null,
   "id": "1bd2e1dc",
   "metadata": {},
   "outputs": [],
   "source": [
    "cluster_heatmap(df, screened_stats_df, pre_fn, data_name, id_col = id_col)"
   ]
  },
  {
   "cell_type": "markdown",
   "id": "c31961d6",
   "metadata": {},
   "source": [
    "Outputs are saved under `plots/<data_name>`."
   ]
  }
 ],
 "metadata": {
  "kernelspec": {
   "display_name": "rsch",
   "language": "python",
   "name": "python3"
  },
  "language_info": {
   "codemirror_mode": {
    "name": "ipython",
    "version": 3
   },
   "file_extension": ".py",
   "mimetype": "text/x-python",
   "name": "python",
   "nbconvert_exporter": "python",
   "pygments_lexer": "ipython3",
   "version": "3.11.11"
  }
 },
 "nbformat": 4,
 "nbformat_minor": 5
}
