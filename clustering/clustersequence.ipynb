{
 "cells": [
  {
   "cell_type": "code",
   "execution_count": null,
   "id": "e142c64c",
   "metadata": {},
   "outputs": [],
   "source": [
    "import pandas as pd\n",
    "import numpy as np\n",
    "from preprocess import load_volcorr, preprocess_volcorr, load_total_df, preprocess_total_df, load_globalminds, preprocess_globalminds\n",
    "from cluster_eval import evaluate_all\n",
    "from visualize import visualize_by_config, cluster_heatmap"
   ]
  },
  {
   "cell_type": "code",
   "execution_count": null,
   "id": "ba4bf339",
   "metadata": {},
   "outputs": [],
   "source": [
    "DATASETS = {\n",
    "    'volcorr': (load_volcorr, preprocess_volcorr, 'volcorr', 'exchange'),\n",
    "    'total_df': (load_total_df, preprocess_total_df, 'total_df', 'exchange'),\n",
    "    'globalminds': (load_globalminds, preprocess_globalminds, 'globalminds', 'country')\n",
    "}\n",
    "\n",
    "for key in DATASETS.keys():\n",
    "    load_fn, pre_fn, data_name, id_col = DATASETS[key]\n",
    "    df = load_fn()\n",
    "    X_df = pre_fn(df)\n",
    "    ids = df[id_col] if id_col in df.columns else X_df.index\n",
    "    X = X_df.to_numpy()\n",
    "\n",
    "    summary, stats_df, all_members = evaluate_all(X, ids.to_numpy())\n",
    "\n",
    "    output_path = f\"/mnt/nas/project/crypto/data/sandbox/stats_df_{key}.csv\"\n",
    "    stats_df.to_csv(output_path, index=False)\n",
    "\n",
    "    screened_stats_df = stats_df.copy()\n",
    "\n",
    "    if key == 'total_df':\n",
    "        screened_stats_df = screened_stats_df[screened_stats_df['method'].isin(['pca_kmeans', 'tsne_dbscan', 'umap_hdbscan'])]\n",
    "        screened_stats_df = screened_stats_df[screened_stats_df['k'] > 5]\n",
    "        screened_stats_df = screened_stats_df[screened_stats_df['sil'] > 0.3]\n",
    "    elif key == 'globalminds':\n",
    "        screened_stats_df = screened_stats_df[screened_stats_df['method'].isin(['pca_kmeans', 'tsne_dbscan', 'umap_hdbscan'])]\n",
    "        screened_stats_df = screened_stats_df[screened_stats_df['k'] > 5]\n",
    "        screened_stats_df = screened_stats_df[screened_stats_df['sil'] > 0.3]\n",
    "    elif key == 'volcorr': \n",
    "        screened_stats_df = screened_stats_df[screened_stats_df['method'].isin(['pca_kmeans',' tsne_dbscan', 'umap_hdbscan'])]\n",
    "        screened_stats_df = screened_stats_df[screened_stats_df['k'] > 5]\n",
    "        screened_stats_df = screened_stats_df[screened_stats_df['sil'] > 0.3]\n",
    "\n",
    "    visualize_by_config(df, screened_stats_df, pre_fn, data_name, id_col=id_col)\n",
    "    cluster_heatmap(df, screened_stats_df, pre_fn, data_name, id_col = id_col)\n"
   ]
  }
 ],
 "metadata": {
  "language_info": {
   "name": "python"
  }
 },
 "nbformat": 4,
 "nbformat_minor": 5
}
